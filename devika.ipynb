{
  "nbformat": 4,
  "nbformat_minor": 0,
  "metadata": {
    "colab": {
      "provenance": [],
      "authorship_tag": "ABX9TyOYrsDV/6VIxZKEJ9FbiEeG",
      "include_colab_link": true
    },
    "kernelspec": {
      "name": "python3",
      "display_name": "Python 3"
    },
    "language_info": {
      "name": "python"
    }
  },
  "cells": [
    {
      "cell_type": "markdown",
      "metadata": {
        "id": "view-in-github",
        "colab_type": "text"
      },
      "source": [
        "<a href=\"https://colab.research.google.com/github/Devika0910/Star-pattern/blob/main/devika.ipynb\" target=\"_parent\"><img src=\"https://colab.research.google.com/assets/colab-badge.svg\" alt=\"Open In Colab\"/></a>"
      ]
    },
    {
      "cell_type": "code",
      "execution_count": null,
      "metadata": {
        "colab": {
          "base_uri": "https://localhost:8080/"
        },
        "id": "4TO5omWFTT-4",
        "outputId": "6dd542ae-a0f1-4fd0-9fd7-e627a76c7327"
      },
      "outputs": [
        {
          "output_type": "stream",
          "name": "stdout",
          "text": [
            "* * * *     \n",
            "*       *   \n",
            "*         * \n",
            "*       *   \n",
            "* * * *     \n"
          ]
        }
      ],
      "source": [
        "n=5\n",
        "for i in range(0,5):\n",
        "  for j in range(0,6):\n",
        "    if i==0 and j==1 or j==0 or i==0 and j==2 or i==0 and j==3  or i==1 and j==4 or i==3 and j==4 or i==3 and j==4 or i==2 and j==5 or i==4 and j==2 or i==4 and j==1 or i==4 and j==3:\n",
        "      print('*',end=' ')\n",
        "    else:\n",
        "      print(' ',end=' ')\n",
        "  print()"
      ]
    },
    {
      "cell_type": "code",
      "source": [],
      "metadata": {
        "id": "C34Q_yP_G7LM"
      },
      "execution_count": null,
      "outputs": []
    },
    {
      "cell_type": "code",
      "source": [],
      "metadata": {
        "id": "mvTz9v3xe5HU"
      },
      "execution_count": null,
      "outputs": []
    },
    {
      "cell_type": "code",
      "source": [
        "for i in range(0,5):\n",
        "  for j in range(0,5):\n",
        "    if i==0 or i==4 or j==0 or j==5-1 or i+j==2 or i==3 and j==1 or i+j==6 or i==1 and j==3:\n",
        "      print('*',end=' ')\n",
        "    else:\n",
        "      print(' ',end=' ')\n",
        "  print()"
      ],
      "metadata": {
        "colab": {
          "base_uri": "https://localhost:8080/"
        },
        "id": "I9wEG8VCXnCP",
        "outputId": "2a10b075-331d-4f3a-8189-19baea8c61d3"
      },
      "execution_count": null,
      "outputs": [
        {
          "output_type": "stream",
          "name": "stdout",
          "text": [
            "* * * * * \n",
            "* *   * * \n",
            "*       * \n",
            "* *   * * \n",
            "* * * * * \n"
          ]
        }
      ]
    },
    {
      "cell_type": "code",
      "source": [],
      "metadata": {
        "id": "PI2WvrS-G9EE"
      },
      "execution_count": null,
      "outputs": []
    },
    {
      "cell_type": "markdown",
      "source": [
        "# New Section"
      ],
      "metadata": {
        "id": "2bkJGbeuVLzg"
      }
    }
  ]
}